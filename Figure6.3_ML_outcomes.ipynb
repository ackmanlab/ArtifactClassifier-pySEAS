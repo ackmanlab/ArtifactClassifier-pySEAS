{
 "cells": [
  {
   "cell_type": "code",
   "execution_count": 16,
   "metadata": {},
   "outputs": [],
   "source": [
    "#importing necessary packages\n",
    "# ---------------------------------------------------------\n",
    "import sklearn\n",
    "import numpy as np\n",
    "import matplotlib.pyplot as plt\n",
    "import pandas as pd\n",
    "import sys\n",
    "import seaborn as sns\n",
    "\n",
    "from sklearn.ensemble import VotingClassifier\n",
    "sys.path.append('../../../../pywholebrain')\n",
    "sys.path.append('/home/ackmanadmin/Documents/pywholebrain')\n",
    "\n",
    "from hdf5manager import hdf5manager as h5\n",
    "from mpl_toolkits.axes_grid1 import make_axes_locatable\n",
    "\n",
    "# plt.style.use('publication')\n",
    "plt.rcParams['font.size'] = 8\n",
    "\n",
    "save = True\n"
   ]
  },
  {
   "cell_type": "code",
   "execution_count": 34,
   "metadata": {},
   "outputs": [],
   "source": [
    "#creating appropriate datasets\n",
    "# ---------------------------------------------------------\n",
    "# classifier_h5 = h5('/home/ackmanadmin/Documents/classifier/p21_classifier.hdf5')\n",
    "# var = classifier_h5.load('training_keys')\n",
    "# data = pd.read_csv('/home/ackmanadmin/Documents/classifier/p21_classifier_metrics.tsv', sep = \"\\t\", index_col='exp_ic').copy()\n",
    "# confidence = pd.read_csv('/home/ackmanadmin/Documents/classifier/p21_classifier_confidence.tsv', sep = \"\\t\", index_col='exp_ic')\n",
    "\n",
    "data = pd.read_csv('../../training_dataset.tsv', sep = \"\\t\", index_col='exp_ic')\n",
    "confidence = pd.read_csv('../../20min_p21_confidence.tsv', sep = \"\\t\", index_col='exp_ic')\n",
    "\n",
    "\n",
    "#renaming the columns\n",
    "neural_dict = {}\n",
    "\n",
    "for col in data.columns:\n",
    "    if \".\" in col:\n",
    "        new_col = col.replace(\".\", \"_\")\n",
    "        neural_dict[col] = new_col\n",
    "\n",
    "data = data.rename(columns=neural_dict)\n",
    "\n",
    "domain_vars =['spatial_min', 'spatial_max', \n",
    "              'region_minaxis', 'threshold_area', 'region_extent', 'threshold_perc', 'region_majaxis', 'region_majmin_ratio', \n",
    "              'temporal_min', \n",
    "              'freq_rangesz',\n",
    "              #'move_corr'\n",
    "             ]\n",
    "data = data.fillna(value=0).copy()\n",
    "dataAll = data[domain_vars].copy()\n",
    "\n",
    "\n",
    "# nodomain_vars =['spatial.min', 'spatial.max',\n",
    "#                 'freq.rangesz','freq.maxsnr', 'freq.range.low', 'freq.range.high',\n",
    "#                 'temporal.max', 'temporal.std', 'temporal.autocorr']\n",
    "\n",
    "# dataNoThresh = data[data['threshold.area'] == 0].copy()\n",
    "# dataNoThresh = dataNoThresh[nodomain_vars].fillna(value=0).copy()\n",
    "\n",
    "# dataThresh = data[data['threshold.area'] != 0].copy()\n",
    "# dataThresh = dataThresh[domain_vars].fillna(value=0).copy()\n",
    "\n",
    "for col in dataAll.columns:\n",
    "    dataAll[col] = (dataAll[col] - np.mean(dataAll[col])) / (np.std(dataAll[col], ddof=1)) \n",
    "# for col in dataThresh.columns:\n",
    "#     dataThresh[col] = (dataThresh[col] - np.mean(dataThresh[col])) / (np.std(dataThresh[col], ddof=1)) \n",
    "# for col in dataNoThresh.columns:\n",
    "#     dataNoThresh[col] = (dataNoThresh[col] - np.mean(dataNoThresh[col])) / (np.std(dataNoThresh[col], ddof=1)) \n",
    "    \n",
    "    \n",
    "    \n",
    "    "
   ]
  },
  {
   "cell_type": "code",
   "execution_count": 3,
   "metadata": {},
   "outputs": [
    {
     "ename": "NameError",
     "evalue": "name 'X_reduced_SVD' is not defined",
     "output_type": "error",
     "traceback": [
      "\u001b[0;31m---------------------------------------------------------------------------\u001b[0m",
      "\u001b[0;31mNameError\u001b[0m                                 Traceback (most recent call last)",
      "\u001b[0;32m<ipython-input-3-d5af362299ee>\u001b[0m in \u001b[0;36m<module>\u001b[0;34m()\u001b[0m\n\u001b[1;32m     25\u001b[0m \u001b[0mfig\u001b[0m\u001b[0;34m.\u001b[0m\u001b[0mtext\u001b[0m\u001b[0;34m(\u001b[0m\u001b[0;36m0.85\u001b[0m\u001b[0;34m,\u001b[0m \u001b[0;36m0.02\u001b[0m\u001b[0;34m,\u001b[0m \u001b[0;34m'Frequency'\u001b[0m\u001b[0;34m,\u001b[0m \u001b[0mha\u001b[0m\u001b[0;34m=\u001b[0m\u001b[0;34m'center'\u001b[0m\u001b[0;34m)\u001b[0m\u001b[0;34m\u001b[0m\u001b[0m\n\u001b[1;32m     26\u001b[0m \u001b[0;34m\u001b[0m\u001b[0m\n\u001b[0;32m---> 27\u001b[0;31m ph = ax0.scatter(X_reduced_SVD[:, 0], X_reduced_SVD[:, 1], c=data.loc[dataThresh.index, 'signal'],\n\u001b[0m\u001b[1;32m     28\u001b[0m                  cmap=plt.cm.get_cmap('RdYlBu',2), s = 20, alpha = 1)\n\u001b[1;32m     29\u001b[0m \u001b[0max0\u001b[0m\u001b[0;34m.\u001b[0m\u001b[0mset_title\u001b[0m\u001b[0;34m(\u001b[0m\u001b[0;34m''\u001b[0m\u001b[0;34m)\u001b[0m\u001b[0;34m\u001b[0m\u001b[0m\n",
      "\u001b[0;31mNameError\u001b[0m: name 'X_reduced_SVD' is not defined"
     ]
    }
   ],
   "source": [
    "#Plotting TruncatedSVD Plot\n",
    "# ---------------------------------------------------------\n",
    "from sklearn.decomposition import TruncatedSVD\n",
    "\n",
    "svd = TruncatedSVD(n_components=2, n_iter=100, random_state=42)\n",
    "\n",
    "X_reduced_SVD3 = svd.fit_transform(dataAll.values)\n",
    "\n",
    "\n",
    "fig = plt.figure(figsize = (5,4), constrained_layout=False)\n",
    "\n",
    "gs = fig.add_gridspec(8, 11)\n",
    "gs.update(wspace = 0.15, hspace = 1)\n",
    "\n",
    "ax0 = fig.add_subplot(gs[:4, :4])\n",
    "ax1 = fig.add_subplot(gs[4:, :4], sharey=ax0)\n",
    "ax2 = fig.add_subplot(gs[:4, 4:8])\n",
    "ax3 = fig.add_subplot(gs[4:, 4:8], sharey=ax2)\n",
    "ax4 = fig.add_subplot(gs[:4, 9])\n",
    "ax5 = fig.add_subplot(gs[4:, 9])\n",
    "ax6 = fig.add_subplot(gs[:4, 10])\n",
    "\n",
    "fig.text(0.08, 0.5, 'SVD1', ha='center',rotation='vertical')\n",
    "fig.text(0.4, 0.02, 'SVD2', ha='center')\n",
    "fig.text(0.85, 0.02, 'Frequency', ha='center')\n",
    "\n",
    "ph = ax0.scatter(X_reduced_SVD[:, 0], X_reduced_SVD[:, 1], c=data.loc[dataThresh.index, 'signal'],\n",
    "                 cmap=plt.cm.get_cmap('RdYlBu',2), s = 20, alpha = 1)\n",
    "ax0.set_title('')\n",
    "\n",
    "divider = make_axes_locatable(ax0)\n",
    "cax = divider.append_axes('right', size='5%', pad=0.2)\n",
    "cbar2 = fig.colorbar(ph, ticks=[0.25, 0.75], cax=cax, orientation='vertical')\n",
    "cbar2.ax.set_yticklabels(['Artifact', 'Signal'], rotation = 90)\n",
    "cbar2.ax.yaxis.set_ticks_position('left')\n",
    "cbar2.ax.tick_params(size=0)\n",
    "\n",
    "ph2 = ax1.scatter(X_reduced_SVD2[:, 0], X_reduced_SVD2[:, 1], c=data.loc[dataNoThresh.index, 'signal'], \n",
    "                  cmap=plt.cm.get_cmap('RdYlBu',2), s = 20, alpha = 1)\n",
    "# ax1.set_title('Subset 1')\n",
    "\n",
    "divider = make_axes_locatable(ax1)\n",
    "cax = divider.append_axes('right', size='5%', pad=0.2)\n",
    "cbar2 = fig.colorbar(ph2, ticks=[0.25, 0.75], cax=cax, orientation='vertical')\n",
    "cbar2.ax.set_yticklabels(['Artifact', 'Signal'], rotation = 90)\n",
    "cbar2.ax.yaxis.set_ticks_position('left')\n",
    "cbar2.ax.tick_params(size=0)\n",
    "\n",
    "ph3 = ax2.scatter(X_reduced_SVD[:, 0], X_reduced_SVD[:, 1], c=confidence.loc[dataThresh.index, 'rnd_clf_prob'], cmap='PiYG', s = 20, alpha = 1)\n",
    "# ax0.set_title('')\n",
    "ax2.set_yticklabels([])\n",
    "\n",
    "divider = make_axes_locatable(ax2)\n",
    "cax = divider.append_axes('right', size='5%', pad=0.2)\n",
    "cbar2 = fig.colorbar(ph3, ticks=[0.25, 0.75], cax=cax, orientation='vertical')\n",
    "cbar2.ax.set_yticklabels(['Artifact', 'Signal'], rotation = 90)\n",
    "cbar2.ax.yaxis.set_ticks_position('left')\n",
    "cbar2.ax.tick_params(size=0)\n",
    "\n",
    "ph4 = ax3.scatter(X_reduced_SVD2[:, 0], X_reduced_SVD2[:, 1], c=confidence.loc[dataNoThresh.index, 'rnd_clf_prob'], cmap='PiYG', s = 20, alpha = 1)\n",
    "# ax1.set_title('Subset 1')\n",
    "plt.setp(ax3.get_yticklabels(), visible = False)\n",
    "\n",
    "divider = make_axes_locatable(ax3)\n",
    "cax = divider.append_axes('right', size='5%', pad=0.2)\n",
    "cbar2 = fig.colorbar(ph4, ticks=[0.25, 0.75], cax=cax, orientation='vertical')\n",
    "cbar2.ax.set_yticklabels(['Artifact', 'Signal'], rotation = 90)\n",
    "cbar2.ax.yaxis.set_ticks_position('left')\n",
    "cbar2.ax.tick_params(size=0)\n",
    "\n",
    "nbins = 25\n",
    "\n",
    "bins = np.linspace(0,1,nbins)\n",
    "colors=  plt.cm.PiYG(bins)\n",
    "\n",
    "hist1, bin_edges1 = np.histogram(confidence.loc[dataThresh.index, 'rnd_clf_prob'], bins)\n",
    "hist2, bin_edges2 = np.histogram(confidence.loc[dataNoThresh.index, 'rnd_clf_prob'], bins)\n",
    "\n",
    "ax4.barh(bin_edges1[:-1], np.array(hist1)/sum(hist1), height = 0.04, color=colors, )\n",
    "ax4.set_ylim(-0.025,1)\n",
    "ax4.set_xlim(0,.25)\n",
    "ax4.set_xticks([0,0.1,0.2])\n",
    "ax4.set_xticklabels([])\n",
    "ax4.spines['right'].set_visible(False)\n",
    "ax4.yaxis.tick_left()\n",
    "ax4.tick_params(axis = 'x', labelrotation=60, labelright='off')\n",
    "\n",
    "ax5.barh(bin_edges2[:-1], np.array(hist2)/sum(hist2), height = 0.04, color=colors)\n",
    "ax5.set_xlim(0,0.25)\n",
    "ax5.set_ylim(-0.025,1)\n",
    "ax5.set_xticks([0,0.1,0.2])\n",
    "ax5.tick_params(axis = 'x', labelrotation=60)\n",
    "\n",
    "ax6.barh(bin_edges1[:-1], np.array(hist1)/sum(hist1), height = 0.04, color=colors)\n",
    "ax6.set_ylim(-0.025,1)\n",
    "ax6.set_xlim(0.55,.80)\n",
    "ax6.tick_params(axis = 'x', labelrotation=60, labelleft='off')\n",
    "ax6.spines['left'].set_visible(False)\n",
    "ax6.yaxis.tick_right()\n",
    "ax6.set_yticklabels([])\n",
    "ax6.set_xticks([0.6,0.7,0.8])\n",
    "\n",
    "\n",
    "\n",
    "plt.tight_layout()\n",
    "if save: \n",
    "    plt.savefig('SVD_plots_confidence.svg', dpi = 600)\n",
    "plt.show()\n",
    "\n",
    "\n",
    "# ---------------------------------------------------------"
   ]
  },
  {
   "cell_type": "code",
   "execution_count": 18,
   "metadata": {
    "collapsed": true
   },
   "outputs": [],
   "source": [
    "#Plotting TruncatedSVD Plot\n",
    "# ---------------------------------------------------------\n",
    "from sklearn.decomposition import TruncatedSVD\n",
    "\n",
    "svd = TruncatedSVD(n_components=2, n_iter=100, random_state=42)\n",
    "\n",
    "X_reduced_SVD3 = svd.fit_transform(dataAll.values)"
   ]
  },
  {
   "cell_type": "code",
   "execution_count": 35,
   "metadata": {},
   "outputs": [
    {
     "name": "stdout",
     "output_type": "stream",
     "text": [
      "2190\n"
     ]
    }
   ],
   "source": [
    "# distribution of confidences\n",
    "nbins = 10\n",
    "bins = np.linspace(0,1,nbins+1)\n",
    "\n",
    "hist_dist_all = np.zeros((len(confidence.columns), nbins))\n",
    "for i, col in enumerate(confidence.columns):\n",
    "    hist_dist_all[i], bin_edges1 = np.histogram(confidence.loc[dataAll.index, col], bins)\n",
    "meanbyindex = confidence.mean(axis=1)\n",
    "\n",
    "hist_dist_n = np.zeros((len(confidence.columns), nbins))\n",
    "for i, col in enumerate(confidence.columns):\n",
    "    hist_dist_n[i], bin_edges1 = np.histogram(confidence.loc[dataAll[data['artifact']==0].index, col], bins)\n",
    "\n",
    "hist_dist_v = np.zeros((len(confidence.columns), nbins))\n",
    "for i, col in enumerate(confidence.columns):\n",
    "    hist_dist_v[i], bin_edges1 = np.histogram(confidence.loc[dataAll[data['hemodynamic']==1].index, col], bins)\n",
    "    \n",
    "hist_dist_o = np.zeros((len(confidence.columns), nbins))\n",
    "for i, col in enumerate(confidence.columns):\n",
    "    hist_dist_o[i], bin_edges1 = np.histogram(confidence.loc[dataAll[data['movement']==1].index, col], bins)\n",
    "\n",
    "print(len(meanbyindex))\n"
   ]
  },
  {
   "cell_type": "code",
   "execution_count": 20,
   "metadata": {},
   "outputs": [
    {
     "name": "stdout",
     "output_type": "stream",
     "text": [
      "(0.6470588235294118, 0.0, 0.14901960784313725, 1.0)\n",
      "(0.9568627450980393, 0.42745098039215684, 0.2627450980392157, 1.0)\n",
      "(0.19215686274509805, 0.21176470588235294, 0.5843137254901961, 1.0)\n"
     ]
    },
    {
     "name": "stderr",
     "output_type": "stream",
     "text": [
      "/usr/local/lib/python3.5/dist-packages/matplotlib/figure.py:2369: UserWarning: This figure includes Axes that are not compatible with tight_layout, so results might be incorrect.\n",
      "  warnings.warn(\"This figure includes Axes that are not compatible \"\n"
     ]
    },
    {
     "data": {
      "image/png": "[encoded data removed]",
      "text/plain": [
       "<Figure size 288x144 with 2 Axes>"
      ]
     },
     "metadata": {},
     "output_type": "display_data"
    }
   ],
   "source": [
    "fig = plt.figure(figsize = (4,2), constrained_layout=False)\n",
    "\n",
    "gs = fig.add_gridspec(4,8)\n",
    "gs.update(wspace = 0.15, hspace = 1)\n",
    "\n",
    "ax0 = fig.add_subplot(gs[:3, :4])\n",
    "ax2 = fig.add_subplot(gs[:3, 4:])\n",
    "\n",
    "data.loc[data['artifact']==0, 'class'] = 5\n",
    "data.loc[data['hemodynamic']==1, 'class'] = 0\n",
    "data.loc[data['movement']==1, 'class'] = 1\n",
    "\n",
    "colors = np.zeros((len(data), 4))\n",
    "for i, ind in enumerate(data.index):\n",
    "    if data.loc[ind, 'class'] == 0:\n",
    "        colors[i] = plt.cm.get_cmap('RdYlBu',6)(0)\n",
    "    elif data.loc[ind, 'class'] == 1:\n",
    "        colors[i] = plt.cm.get_cmap('RdYlBu',6)(1)\n",
    "    elif data.loc[ind, 'class'] == 5:\n",
    "        colors[i] = plt.cm.get_cmap('RdYlBu',6)(5)  \n",
    "print(plt.cm.get_cmap('RdYlBu',6)(0))\n",
    "print(plt.cm.get_cmap('RdYlBu',6)(1))\n",
    "print(plt.cm.get_cmap('RdYlBu',6)(5))\n",
    "\n",
    "ph = ax0.scatter(X_reduced_SVD3[:, 0], X_reduced_SVD3[:, 1], \n",
    "                 facecolors=\"None\",\n",
    "                 edgecolors=colors,\n",
    "                 lw=0.25,\n",
    "                 s = 3)\n",
    "\n",
    "ax0.set_ylim([-3,8])\n",
    "ax0.set_xlim([-6,10])\n",
    "ax0.set_title('')\n",
    "ax0.set_aspect(1)\n",
    "ax0.set_xticks([-4,0,4,8])\n",
    "ax0.set_yticks([0,4,8])\n",
    "\n",
    "\n",
    "colors = np.zeros((len(data), 4))\n",
    "for i, ind in enumerate(data.index):\n",
    "    colors[i] = plt.cm.get_cmap('RdYlBu')(meanbyindex[i])\n",
    "\n",
    "\n",
    "ph3 = ax2.scatter(X_reduced_SVD3[:, 0], X_reduced_SVD3[:, 1], \n",
    "                 facecolors=\"None\",\n",
    "                 edgecolors=colors,\n",
    "                 lw=0.25,\n",
    "                 s = 3)\n",
    "\n",
    "ax2.set_ylim(ax0.get_ylim())\n",
    "ax2.set_xlim(ax0.get_xlim())\n",
    "ax2.set_yticklabels('')\n",
    "ax2.set_xticks([-4,0,4,8])\n",
    "ax2.set_yticks([0,4,8])\n",
    "ax2.set_aspect(1)\n",
    "\n",
    "plt.tight_layout()\n",
    "if save: \n",
    "    plt.savefig('SVD_plots_confidence_OB.svg', dpi = 600)\n",
    "plt.show()\n",
    "\n",
    "# print(np.array(hist1)/sum(hist1))\n",
    "# ---------------------------------------------------------"
   ]
  },
  {
   "cell_type": "code",
   "execution_count": 7,
   "metadata": {},
   "outputs": [
    {
     "ename": "NameError",
     "evalue": "name 'binpos' is not defined",
     "output_type": "error",
     "traceback": [
      "\u001b[0;31m---------------------------------------------------------------------------\u001b[0m",
      "\u001b[0;31mNameError\u001b[0m                                 Traceback (most recent call last)",
      "\u001b[0;32m<ipython-input-7-6ed886959de2>\u001b[0m in \u001b[0;36m<module>\u001b[0;34m()\u001b[0m\n\u001b[1;32m      3\u001b[0m \u001b[0mallv\u001b[0m \u001b[0;34m=\u001b[0m \u001b[0mlen\u001b[0m\u001b[0;34m(\u001b[0m\u001b[0mmeanbyindex\u001b[0m\u001b[0;34m)\u001b[0m\u001b[0;34m\u001b[0m\u001b[0m\n\u001b[1;32m      4\u001b[0m \u001b[0;34m\u001b[0m\u001b[0m\n\u001b[0;32m----> 5\u001b[0;31m axs.scatter(binpos, np.ones(len(neur))*0, s = neur/allv*100, \n\u001b[0m\u001b[1;32m      6\u001b[0m             \u001b[0medgecolor\u001b[0m\u001b[0;34m=\u001b[0m\u001b[0;34m\"none\"\u001b[0m\u001b[0;34m,\u001b[0m\u001b[0;34m\u001b[0m\u001b[0m\n\u001b[1;32m      7\u001b[0m             color=plt.cm.get_cmap('RdYlBu',6)(5))\n",
      "\u001b[0;31mNameError\u001b[0m: name 'binpos' is not defined"
     ]
    }
   ],
   "source": [
    "fig, axs = plt.subplots(1,1,figsize=(2,0.5))\n",
    "\n",
    "allv = len(meanbyindex)\n",
    "\n",
    "axs.scatter(binpos, np.ones(len(neur))*0, s = neur/allv*100, \n",
    "            edgecolor=\"none\",\n",
    "            color=plt.cm.get_cmap('RdYlBu',6)(5))\n",
    "axs.scatter(binpos, np.ones(len(hemo))*-.5, s = hemo/allv*100, \n",
    "            edgecolor=\"none\",\n",
    "            color=plt.cm.get_cmap('RdYlBu',6)(0))\n",
    "axs.scatter(binpos, np.ones(len(moti))*-.75, s = moti/allv*100,\n",
    "            edgecolor=\"none\",\n",
    "            color=plt.cm.get_cmap('RdYlBu',6)(1))\n",
    "axs.set_xlim(1,0)\n",
    "axs.set_ylim(-1,0.5)\n",
    "\n",
    "axs.set_yticklabels([])\n",
    "axs.set_xticklabels([])\n",
    "fig.savefig('classifier_performance_mat.svg', dpi=600)\n",
    "plt.show()"
   ]
  },
  {
   "cell_type": "code",
   "execution_count": 8,
   "metadata": {},
   "outputs": [
    {
     "data": {
      "image/png": "[encoded data removed]",
      "text/plain": [
       "<Figure size 144x36 with 1 Axes>"
      ]
     },
     "metadata": {},
     "output_type": "display_data"
    },
    {
     "data": {
      "image/png": "[encoded data removed]",
      "text/plain": [
       "<Figure size 108x108 with 2 Axes>"
      ]
     },
     "metadata": {},
     "output_type": "display_data"
    }
   ],
   "source": [
    "fig = plt.figure(figsize=(1.5,1.5))\n",
    "plt.imshow(np.ones((10,10)), cmap = 'RdYlBu', vmin=0, vmax=1)\n",
    "plt.colorbar()\n",
    "plt.savefig('confidence_colorbar.svg', dpi=600)\n",
    "plt.show()"
   ]
  },
  {
   "cell_type": "code",
   "execution_count": 36,
   "metadata": {
    "scrolled": false
   },
   "outputs": [
    {
     "name": "stdout",
     "output_type": "stream",
     "text": [
      "highest neuro classified:  71.22821917808193  +/-  0.19506641953304202\n",
      "highest artifact classified:  22.72840182648403  +/-  0.2624538053797265\n",
      "highest vasc classified:  7.008538812785399  +/-  0.22352906897754396\n",
      "highest other classified:  15.719863013698628  +/-  0.13179489477635326\n"
     ]
    },
    {
     "data": {
      "image/png": "[encoded data removed]",
      "text/plain": [
       "<Figure size 144x54 with 2 Axes>"
      ]
     },
     "metadata": {},
     "output_type": "display_data"
    }
   ],
   "source": [
    "fig, axs = plt.subplots(2,1,figsize=(2,0.75))\n",
    "\n",
    "allv = len(meanbyindex)\n",
    "binpos = bin_edges1[:-1] + (bin_edges1[1:] - bin_edges1[:-1])/2\n",
    "width = (bin_edges1[1:] - bin_edges1[:-1])[0]\n",
    "# axs[0].bar(binpos, np.mean(hist_dist_n/allv*100, axis=0), \n",
    "#            yerr = np.std(hist_dist_n/allv*100, axis=0), \n",
    "#            width = width,\n",
    "#             color=plt.cm.get_cmap('RdYlBu',6)(5),\n",
    "# #             edgecolor=plt.cm.get_cmap('RdYlBu',6)(5), \n",
    "#             linewidth=1)\n",
    "axs[0].bar(binpos, np.mean(hist_dist_n/allv*100, axis=0), \n",
    "           yerr = np.std(hist_dist_n/allv*100, axis=0), \n",
    "           width = width,\n",
    "            color=plt.cm.get_cmap('RdYlBu',6)(5),\n",
    "#             edgecolor=plt.cm.get_cmap('RdYlBu',6)(5), \n",
    "            linewidth=1,\n",
    "          edgecolor =plt.cm.get_cmap('RdYlBu',6)(5))\n",
    "axs[1].bar(binpos,np.mean(hist_dist_v/allv*100, axis=0),\n",
    "           yerr = np.sqrt(np.std(hist_dist_v/allv*100, axis=0)), \n",
    "           width = width,\n",
    "            color=plt.cm.get_cmap('RdYlBu',6)(0),\n",
    "#            edgecolor=plt.cm.get_cmap('RdYlBu',6)(0), \n",
    "            linewidth=1,\n",
    "          edgecolor =plt.cm.get_cmap('RdYlBu',6)(0))\n",
    "bottoms = np.mean(hist_dist_v/allv*100, axis=0)\n",
    "axs[1].bar(binpos, np.mean(hist_dist_o/allv*100, axis=0),\n",
    "           yerr = np.std(hist_dist_o/allv*100, axis=0),  \n",
    "           width = width,\n",
    "           bottom=bottoms,\n",
    "            color=plt.cm.get_cmap('RdYlBu',6)(1),\n",
    "#             edgecolor=plt.cm.get_cmap('RdYlBu',6)(1), \n",
    "            linewidth=1,\n",
    "          edgecolor =plt.cm.get_cmap('RdYlBu',6)(1))\n",
    "\n",
    "\n",
    "\n",
    "axs[0].set_xticklabels([])\n",
    "axs[0].spines['right'].set_visible(False)\n",
    "axs[0].spines['top'].set_visible(False)\n",
    "# axs[1].spines['bottom'].set_visible(False)\n",
    "axs[0].set_ylim(0.1,100)\n",
    "axs[0].set_xlim([1,0])\n",
    "axs[0].set_yscale('log')\n",
    "axs[0].set_yticks([1,100])\n",
    "\n",
    "axs[1].spines['right'].set_visible(False)\n",
    "axs[1].spines['top'].set_visible(False)\n",
    "# axs[2].spines['bottom'].set_visible(False)\n",
    "axs[1].set_ylim(-1,25)\n",
    "\n",
    "axs[1].set_xlim([1,0])\n",
    "axs[1].set_yscale('log')\n",
    "axs[1].set_yticks([1,100])\n",
    "\n",
    "print('highest neuro classified: ', np.mean(hist_dist_n/allv*100, axis=0)[9], ' +/- ', \n",
    "           np.std(hist_dist_n/allv*100, axis=0)[9])\n",
    "print('highest artifact classified: ', np.mean((hist_dist_v+hist_dist_o)/allv*100, axis=0)[0], ' +/- ', \n",
    "           np.std((hist_dist_v+hist_dist_o)/allv*100, axis=0)[0])\n",
    "print('highest vasc classified: ', np.mean(hist_dist_v/allv*100, axis=0)[0], ' +/- ', \n",
    "           np.std(hist_dist_v/allv*100, axis=0)[0])\n",
    "print('highest other classified: ', np.mean(hist_dist_o/allv*100, axis=0)[0], ' +/- ', \n",
    "           np.std(hist_dist_o/allv*100, axis=0)[0])\n",
    "\n",
    "fig.savefig('classifier_performance_mat_hist.svg', dpi=600)\n",
    "plt.show()"
   ]
  },
  {
   "cell_type": "code",
   "execution_count": 40,
   "metadata": {},
   "outputs": [
    {
     "name": "stdout",
     "output_type": "stream",
     "text": [
      "highest neuro classified:  71.22821917808193  +/-  0.19506641953304202\n",
      "highest artifact classified:  22.72840182648403  +/-  0.2624538053797265\n",
      "highest vasc classified:  7.008538812785399  +/-  0.22352906897754396\n",
      "highest other classified:  15.719863013698628  +/-  0.13179489477635326\n"
     ]
    },
    {
     "data": {
      "image/png": "[encoded data removed]",
      "text/plain": [
       "<Figure size 144x54 with 2 Axes>"
      ]
     },
     "metadata": {},
     "output_type": "display_data"
    }
   ],
   "source": [
    "import matplotlib\n",
    "fig, axs = plt.subplots(2,1,figsize=(2,0.75))\n",
    "\n",
    "allv = len(meanbyindex)\n",
    "binpos = bin_edges1[:-1] + (bin_edges1[1:] - bin_edges1[:-1])/2\n",
    "width = (bin_edges1[1:] - bin_edges1[:-1])[0]\n",
    "# axs[0].bar(binpos, np.mean(hist_dist_n/allv*100, axis=0), \n",
    "#            yerr = np.std(hist_dist_n/allv*100, axis=0), \n",
    "#            width = width,\n",
    "#             color=plt.cm.get_cmap('RdYlBu',6)(5),\n",
    "# #             edgecolor=plt.cm.get_cmap('RdYlBu',6)(5), \n",
    "#             linewidth=1)\n",
    "axs[0].bar(binpos, np.mean(hist_dist_n/allv*100, axis=0), \n",
    "           yerr = np.std(hist_dist_n/allv*100, axis=0), \n",
    "           width = width,\n",
    "            color=plt.cm.get_cmap('RdYlBu',6)(5),\n",
    "#             edgecolor=plt.cm.get_cmap('RdYlBu',6)(5), \n",
    "#             linewidth=1,\n",
    "#           edgecolor =plt.cm.get_cmap('RdYlBu',6)(5)\n",
    "          )\n",
    "axs[1].bar(binpos,np.mean(hist_dist_v/allv*100, axis=0),\n",
    "           yerr = np.sqrt(np.std(hist_dist_v/allv*100, axis=0)), \n",
    "           width = width,\n",
    "            color=plt.cm.get_cmap('RdYlBu',6)(0),\n",
    "#            edgecolor=plt.cm.get_cmap('RdYlBu',6)(0), \n",
    "#             linewidth=1,\n",
    "#           edgecolor =plt.cm.get_cmap('RdYlBu',6)(0)\n",
    "          )\n",
    "bottoms = np.mean(hist_dist_v/allv*100, axis=0)\n",
    "axs[1].bar(binpos, np.mean(hist_dist_o/allv*100, axis=0),\n",
    "           yerr = np.std(hist_dist_o/allv*100, axis=0),  \n",
    "           width = width,\n",
    "           bottom=bottoms,\n",
    "            color=plt.cm.get_cmap('RdYlBu',6)(1),\n",
    "#             edgecolor=plt.cm.get_cmap('RdYlBu',6)(1), \n",
    "#             linewidth=1,\n",
    "#           edgecolor =plt.cm.get_cmap('RdYlBu',6)(1)\n",
    "          )\n",
    "\n",
    "# axs[0].set_xticklabels([])\n",
    "# axs[0].spines['right'].set_visible(False)\n",
    "# axs[0].spines['top'].set_visible(False)\n",
    "# axs[0].spines['bottom'].set_visible(False)\n",
    "# axs[0].set_ylim(50,80)\n",
    "# axs[0].set_yscale('log')\n",
    "# axs[0].set_xticks([])\n",
    "# axs[0].set_xlim([1,0])\n",
    "\n",
    "axs[0].spines['right'].set_visible(False)\n",
    "axs[0].spines['top'].set_visible(False)\n",
    "# axs[1].spines['bottom'].set_visible(False)\n",
    "axs[0].set_ylim(0.1,100)\n",
    "axs[0].set_xlim([1,0])\n",
    "axs[0].set_yscale('log')\n",
    "axs[0].set_yticks([1,100])\n",
    "axs[0].set_yticklabels([1,100])\n",
    "axs[0].set_xticks([0,.5,1.00])\n",
    "axs[0].set_xticklabels([])\n",
    "\n",
    "axs[1].spines['right'].set_visible(False)\n",
    "axs[1].spines['top'].set_visible(False)\n",
    "# axs[2].spines['bottom'].set_visible(False)\n",
    "axs[1].set_ylim(0.1,25)\n",
    "axs[1].set_xlim([1,0])\n",
    "axs[1].set_yscale('log')\n",
    "axs[1].set_yticks([1,100])\n",
    "axs[1].set_yticklabels([1,100])\n",
    "axs[1].set_xticks([0,.5,1.00])\n",
    "axs[1].set_xticklabels([])\n",
    "print('highest neuro classified: ', np.mean(hist_dist_n/allv*100, axis=0)[9], ' +/- ', \n",
    "           np.std(hist_dist_n/allv*100, axis=0)[9])\n",
    "print('highest artifact classified: ', np.mean((hist_dist_v+hist_dist_o)/allv*100, axis=0)[0], ' +/- ', \n",
    "           np.std((hist_dist_v+hist_dist_o)/allv*100, axis=0)[0])\n",
    "print('highest vasc classified: ', np.mean(hist_dist_v/allv*100, axis=0)[0], ' +/- ', \n",
    "           np.std(hist_dist_v/allv*100, axis=0)[0])\n",
    "print('highest other classified: ', np.mean(hist_dist_o/allv*100, axis=0)[0], ' +/- ', \n",
    "           np.std(hist_dist_o/allv*100, axis=0)[0])\n",
    "\n",
    "fig.savefig('classifier_performance_mat_hist.svg', dpi=600)\n",
    "plt.show()"
   ]
  },
  {
   "cell_type": "code",
   "execution_count": 10,
   "metadata": {},
   "outputs": [
    {
     "name": "stdout",
     "output_type": "stream",
     "text": [
      "highest artifact classified:  22.72840182648403  +/-  0.2624538053797265\n"
     ]
    }
   ],
   "source": []
  },
  {
   "cell_type": "code",
   "execution_count": null,
   "metadata": {
    "collapsed": true
   },
   "outputs": [],
   "source": []
  }
 ],
 "metadata": {
  "kernelspec": {
   "display_name": "Python 3 (ipykernel)",
   "language": "python",
   "name": "python3"
  },
  "language_info": {
   "codemirror_mode": {
    "name": "ipython",
    "version": 3
   },
   "file_extension": ".py",
   "mimetype": "text/x-python",
   "name": "python",
   "nbconvert_exporter": "python",
   "pygments_lexer": "ipython3",
   "version": "3.8.10"
  }
 },
 "nbformat": 4,
 "nbformat_minor": 2
}
